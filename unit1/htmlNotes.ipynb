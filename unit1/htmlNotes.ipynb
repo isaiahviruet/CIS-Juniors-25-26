{
 "cells": [
  {
   "cell_type": "markdown",
   "id": "94a31fe2",
   "metadata": {},
   "source": [
    "# Introduction to HTML"
   ]
  },
  {
   "cell_type": "markdown",
   "id": "31339084",
   "metadata": {},
   "source": [
    "## HTML Defined\n",
    "\n",
    "**HTML** - Hypertext Markup Language - This is the language used to describe your content.\n",
    "\n",
    "**CSS** - Cascading Style Sheets - This is the language used to design the way your content looks on the web.\n",
    "\n",
    "**JavaScript** - NOT to be confused with Java - JS is the language used to add interactivity to web pages.\n",
    "\n",
    "### These are the three main web languages"
   ]
  },
  {
   "cell_type": "markdown",
   "id": "d8336a45",
   "metadata": {},
   "source": [
    "### Web Browsers\n",
    "\n",
    "* Software used for browsing, reading, and translating web documents.\n",
    "* Examples of web browsers include:\n",
    "    * Google Chrome\n",
    "    * Firefox\n",
    "    * Microsoft Edge\n",
    "    * Opera GX\n",
    "    * DuckDuckGo\n",
    "    * Safari\n",
    "    * Brave\n",
    "    * Microsoft Internet Explorer (Deprecated)\n",
    "    * Netscape (Deprecated)\n",
    "\n",
    "* Why can't you use deprecated or outdated browsers?\n",
    "    * Unpatched security vulnerabilities\n",
    "    * May not be able to load modern websites"
   ]
  },
  {
   "cell_type": "markdown",
   "id": "e64343c8",
   "metadata": {},
   "source": [
    "### HTML Skeleton / Structure\n",
    "\n",
    "#### See index.html in this folder\n",
    "\n",
    "### Structure of an HTML Tag:\n",
    "\n",
    "<meta charset=\"UTF-8\">\n",
    "* Tag name \n",
    "* Attributes(s)\n",
    "* Attribute values"
   ]
  },
  {
   "cell_type": "markdown",
   "id": "b128ff3d",
   "metadata": {},
   "source": [
    "### Key Concepts of HTML\n",
    "\n",
    "* *Most* HTML tags have an opening and a closing tag\n",
    "* HTML elements are created by a complete pair of tags with content\n",
    "* Attributes - additional information about the elements\n",
    "\n",
    "#### Essential HTML Elements\n",
    "\n",
    "* < h1 >< /h1 > through < h6 >< /h6 > headings - H1 is largest by default, H6 is the smallest\n",
    "* < p >< /p > - paragraph element\n",
    "* < br > - line break"
   ]
  },
  {
   "cell_type": "markdown",
   "id": "ad1b6275",
   "metadata": {},
   "source": []
  }
 ],
 "metadata": {
  "language_info": {
   "name": "python"
  }
 },
 "nbformat": 4,
 "nbformat_minor": 5
}
